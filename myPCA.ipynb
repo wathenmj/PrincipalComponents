{
 "cells": [
  {
   "cell_type": "code",
   "execution_count": 1,
   "metadata": {
    "collapsed": true
   },
   "outputs": [],
   "source": [
    "import pandas as pd\n",
    "import numpy as np\n",
    "import sklearn.ensemble\n",
    "import matplotlib.pyplot as plt\n",
    "import pickle\n",
    "import datetime"
   ]
  },
  {
   "cell_type": "code",
   "execution_count": 2,
   "metadata": {
    "collapsed": true
   },
   "outputs": [],
   "source": [
    "def doPCA(raw_file):\n",
    "    from sklearn.decomposition import PCA\n",
    "    pca = PCA(tol=0.8)\n",
    "    pca.fit(raw_file)\n",
    "    return pca"
   ]
  },
  {
   "cell_type": "code",
   "execution_count": 3,
   "metadata": {
    "collapsed": false
   },
   "outputs": [],
   "source": [
    "tstart = datetime.datetime.now()"
   ]
  },
  {
   "cell_type": "code",
   "execution_count": 4,
   "metadata": {
    "collapsed": false
   },
   "outputs": [
    {
     "data": {
      "text/html": [
       "<div>\n",
       "<table border=\"1\" class=\"dataframe\">\n",
       "  <thead>\n",
       "    <tr style=\"text-align: right;\">\n",
       "      <th></th>\n",
       "      <th>FID</th>\n",
       "      <th>IID</th>\n",
       "      <th>PAT</th>\n",
       "      <th>MAT</th>\n",
       "      <th>SEX</th>\n",
       "      <th>PHENOTYPE</th>\n",
       "      <th>rs12565286_C</th>\n",
       "      <th>rs12082473_A</th>\n",
       "      <th>rs3094315_G</th>\n",
       "      <th>rs2286139_T</th>\n",
       "      <th>...</th>\n",
       "      <th>rs5770820_A</th>\n",
       "      <th>rs9628187_T</th>\n",
       "      <th>rs6010063_A</th>\n",
       "      <th>rs715586_T</th>\n",
       "      <th>rs8137951_A</th>\n",
       "      <th>rs3810648_G</th>\n",
       "      <th>rs3865766_C</th>\n",
       "      <th>rs2238837_C</th>\n",
       "      <th>rs34726907_T</th>\n",
       "      <th>rs28729663_A</th>\n",
       "    </tr>\n",
       "  </thead>\n",
       "  <tbody>\n",
       "    <tr>\n",
       "      <th>0</th>\n",
       "      <td>NA06984</td>\n",
       "      <td>NA06984</td>\n",
       "      <td>0</td>\n",
       "      <td>0</td>\n",
       "      <td>0</td>\n",
       "      <td>-9</td>\n",
       "      <td>0</td>\n",
       "      <td>0</td>\n",
       "      <td>0</td>\n",
       "      <td>2</td>\n",
       "      <td>...</td>\n",
       "      <td>0</td>\n",
       "      <td>0</td>\n",
       "      <td>2</td>\n",
       "      <td>0</td>\n",
       "      <td>0</td>\n",
       "      <td>0</td>\n",
       "      <td>2</td>\n",
       "      <td>0</td>\n",
       "      <td>0</td>\n",
       "      <td>0</td>\n",
       "    </tr>\n",
       "    <tr>\n",
       "      <th>1</th>\n",
       "      <td>NA06985</td>\n",
       "      <td>NA06985</td>\n",
       "      <td>0</td>\n",
       "      <td>0</td>\n",
       "      <td>0</td>\n",
       "      <td>-9</td>\n",
       "      <td>0</td>\n",
       "      <td>0</td>\n",
       "      <td>0</td>\n",
       "      <td>2</td>\n",
       "      <td>...</td>\n",
       "      <td>1</td>\n",
       "      <td>0</td>\n",
       "      <td>0</td>\n",
       "      <td>0</td>\n",
       "      <td>2</td>\n",
       "      <td>1</td>\n",
       "      <td>0</td>\n",
       "      <td>1</td>\n",
       "      <td>1</td>\n",
       "      <td>1</td>\n",
       "    </tr>\n",
       "    <tr>\n",
       "      <th>2</th>\n",
       "      <td>NA06986</td>\n",
       "      <td>NA06986</td>\n",
       "      <td>0</td>\n",
       "      <td>0</td>\n",
       "      <td>0</td>\n",
       "      <td>-9</td>\n",
       "      <td>0</td>\n",
       "      <td>0</td>\n",
       "      <td>0</td>\n",
       "      <td>2</td>\n",
       "      <td>...</td>\n",
       "      <td>0</td>\n",
       "      <td>1</td>\n",
       "      <td>1</td>\n",
       "      <td>0</td>\n",
       "      <td>1</td>\n",
       "      <td>0</td>\n",
       "      <td>2</td>\n",
       "      <td>0</td>\n",
       "      <td>0</td>\n",
       "      <td>0</td>\n",
       "    </tr>\n",
       "  </tbody>\n",
       "</table>\n",
       "<p>3 rows × 857130 columns</p>\n",
       "</div>"
      ],
      "text/plain": [
       "       FID      IID  PAT  MAT  SEX  PHENOTYPE  rs12565286_C  rs12082473_A  \\\n",
       "0  NA06984  NA06984    0    0    0         -9             0             0   \n",
       "1  NA06985  NA06985    0    0    0         -9             0             0   \n",
       "2  NA06986  NA06986    0    0    0         -9             0             0   \n",
       "\n",
       "   rs3094315_G  rs2286139_T      ...       rs5770820_A  rs9628187_T  \\\n",
       "0            0            2      ...                 0            0   \n",
       "1            0            2      ...                 1            0   \n",
       "2            0            2      ...                 0            1   \n",
       "\n",
       "   rs6010063_A  rs715586_T  rs8137951_A  rs3810648_G  rs3865766_C  \\\n",
       "0            2           0            0            0            2   \n",
       "1            0           0            2            1            0   \n",
       "2            1           0            1            0            2   \n",
       "\n",
       "   rs2238837_C  rs34726907_T  rs28729663_A  \n",
       "0            0             0             0  \n",
       "1            1             1             1  \n",
       "2            0             0             0  \n",
       "\n",
       "[3 rows x 857130 columns]"
      ]
     },
     "execution_count": 4,
     "metadata": {},
     "output_type": "execute_result"
    }
   ],
   "source": [
    "#reading the data file\n",
    "raw_file = pd.read_csv('no_NAs_A.raw', sep=\" \")\n",
    "raw_file.head(3)"
   ]
  },
  {
   "cell_type": "code",
   "execution_count": 5,
   "metadata": {
    "collapsed": true
   },
   "outputs": [],
   "source": [
    "#deleting the columns not part of the model\n",
    "raw_file = raw_file.drop(raw_file.columns[[0,1,2,3,4,5]],axis=1)"
   ]
  },
  {
   "cell_type": "code",
   "execution_count": 6,
   "metadata": {
    "collapsed": false
   },
   "outputs": [
    {
     "name": "stdout",
     "output_type": "stream",
     "text": [
      "0:38:42.813000\n"
     ]
    }
   ],
   "source": [
    "tfinish = datetime.datetime.now()\n",
    "texecute = tfinish - tstart\n",
    "print(texecute)"
   ]
  },
  {
   "cell_type": "code",
   "execution_count": 7,
   "metadata": {
    "collapsed": true
   },
   "outputs": [],
   "source": [
    "snps_pyth = list(raw_file.columns.values)"
   ]
  },
  {
   "cell_type": "code",
   "execution_count": 8,
   "metadata": {
    "collapsed": false
   },
   "outputs": [
    {
     "data": {
      "text/plain": [
       "857124"
      ]
     },
     "execution_count": 8,
     "metadata": {},
     "output_type": "execute_result"
    }
   ],
   "source": [
    "len(snps_pyth)"
   ]
  },
  {
   "cell_type": "code",
   "execution_count": 9,
   "metadata": {
    "collapsed": true
   },
   "outputs": [],
   "source": [
    "with open('snps_pyth','wb') as f:\n",
    "    pickle.dump(snps_pyth,f)"
   ]
  },
  {
   "cell_type": "code",
   "execution_count": 10,
   "metadata": {
    "collapsed": true
   },
   "outputs": [],
   "source": [
    "tstart = datetime.datetime.now()"
   ]
  },
  {
   "cell_type": "code",
   "execution_count": 11,
   "metadata": {
    "collapsed": false
   },
   "outputs": [],
   "source": [
    "pca = doPCA(raw_file)"
   ]
  },
  {
   "cell_type": "code",
   "execution_count": 12,
   "metadata": {
    "collapsed": false
   },
   "outputs": [
    {
     "name": "stdout",
     "output_type": "stream",
     "text": [
      "0:01:21.328000\n"
     ]
    }
   ],
   "source": [
    "tfinish = datetime.datetime.now()\n",
    "texecute = tfinish - tstart\n",
    "print(texecute)"
   ]
  },
  {
   "cell_type": "code",
   "execution_count": 13,
   "metadata": {
    "collapsed": true
   },
   "outputs": [],
   "source": [
    "snps_pyth = list(raw_file.columns.values)"
   ]
  },
  {
   "cell_type": "code",
   "execution_count": 14,
   "metadata": {
    "collapsed": false
   },
   "outputs": [
    {
     "name": "stdout",
     "output_type": "stream",
     "text": [
      "(array([], dtype=int64), array([], dtype=int64))\n"
     ]
    }
   ],
   "source": [
    "bad_indices = np.where(np.isnan(raw_file))\n",
    "print(bad_indices) # should be empty"
   ]
  },
  {
   "cell_type": "code",
   "execution_count": 15,
   "metadata": {
    "collapsed": false
   },
   "outputs": [
    {
     "data": {
      "text/plain": [
       "857124"
      ]
     },
     "execution_count": 15,
     "metadata": {},
     "output_type": "execute_result"
    }
   ],
   "source": [
    "pca.n_components_"
   ]
  },
  {
   "cell_type": "code",
   "execution_count": 16,
   "metadata": {
    "collapsed": false
   },
   "outputs": [
    {
     "name": "stdout",
     "output_type": "stream",
     "text": [
      "[  1.35632023e-01   5.31992197e-03   5.26162803e-03   5.17040306e-03\n",
      "   5.16188049e-03   5.13231230e-03   5.04317391e-03   3.84813009e-03\n",
      "   3.82265795e-03   3.79507240e-03   3.75074981e-03   3.72242706e-03\n",
      "   3.69492195e-03   3.68554416e-03   3.67620689e-03   3.65219198e-03\n",
      "   3.63885320e-03   3.63357762e-03   3.62650051e-03   3.62106176e-03\n",
      "   3.61093232e-03   3.60585617e-03   3.60039824e-03   3.59575169e-03\n",
      "   3.59021734e-03   3.58498144e-03   3.58102976e-03   3.57250516e-03\n",
      "   3.56976759e-03   3.56195257e-03   3.55872541e-03   3.55618467e-03\n",
      "   3.55290739e-03   3.54592763e-03   3.53826906e-03   3.53224521e-03\n",
      "   3.52925712e-03   3.52808675e-03   3.52330469e-03   3.51410959e-03\n",
      "   3.51250364e-03   3.50831986e-03   3.50267095e-03   3.50070225e-03\n",
      "   3.49414806e-03   3.49132055e-03   3.48928536e-03   3.48756668e-03\n",
      "   3.48097211e-03   3.47872604e-03   3.47722647e-03   3.47363379e-03\n",
      "   3.46899640e-03   3.46642433e-03   3.46612909e-03   3.45980317e-03\n",
      "   3.45745935e-03   3.45175825e-03   3.44860804e-03   3.44755521e-03\n",
      "   3.44040452e-03   3.43952049e-03   3.43595998e-03   3.43175883e-03\n",
      "   3.42447226e-03   3.42208337e-03   3.41926250e-03   3.41540697e-03\n",
      "   3.41436566e-03   3.40844965e-03   3.40483856e-03   3.40391057e-03\n",
      "   3.39955443e-03   3.39816663e-03   3.39331390e-03   3.39188952e-03\n",
      "   3.38935182e-03   3.38780167e-03   3.38528974e-03   3.38142822e-03\n",
      "   3.37682220e-03   3.37343287e-03   3.37042846e-03   3.36630169e-03\n",
      "   3.36388026e-03   3.36219160e-03   3.36037687e-03   3.35560183e-03\n",
      "   3.35340431e-03   3.35178324e-03   3.35072906e-03   3.34759103e-03\n",
      "   3.34501745e-03   3.34130579e-03   3.33646812e-03   3.33427943e-03\n",
      "   3.33270839e-03   3.32885381e-03   3.32729243e-03   3.32275326e-03\n",
      "   3.32084999e-03   3.31889580e-03   3.31261011e-03   3.30926817e-03\n",
      "   3.30813563e-03   3.30568590e-03   3.30349119e-03   3.30048178e-03\n",
      "   3.29906037e-03   3.29686265e-03   3.29368632e-03   3.29055831e-03\n",
      "   3.28762472e-03   3.28534199e-03   3.28041598e-03   3.28016473e-03\n",
      "   3.27874045e-03   3.27430113e-03   3.27304385e-03   3.26976038e-03\n",
      "   3.26837438e-03   3.26430108e-03   3.26175313e-03   3.25986741e-03\n",
      "   3.25857833e-03   3.25426317e-03   3.25320645e-03   3.24910690e-03\n",
      "   3.24558335e-03   3.24107072e-03   3.23988514e-03   3.23593384e-03\n",
      "   3.23347876e-03   3.23116447e-03   3.22845725e-03   3.22717901e-03\n",
      "   3.22374032e-03   3.22094666e-03   3.21816561e-03   3.21668478e-03\n",
      "   3.21359147e-03   3.21107656e-03   3.20976947e-03   3.20729057e-03\n",
      "   3.20435493e-03   3.20008737e-03   3.19978267e-03   3.19817278e-03\n",
      "   3.19478964e-03   3.19405907e-03   3.19046588e-03   3.18667072e-03\n",
      "   3.18482280e-03   3.18302643e-03   3.18030893e-03   3.17833276e-03\n",
      "   3.17762620e-03   3.17225656e-03   3.17104432e-03   3.16789949e-03\n",
      "   3.16589192e-03   3.16515843e-03   3.16277133e-03   3.15853179e-03\n",
      "   3.15666277e-03   3.15186497e-03   3.15111334e-03   3.14912214e-03\n",
      "   3.14489968e-03   3.14100102e-03   3.13991849e-03   3.13743389e-03\n",
      "   3.13303143e-03   3.13200241e-03   3.13036754e-03   3.12535211e-03\n",
      "   3.12489022e-03   3.12268208e-03   3.11765639e-03   3.11684248e-03\n",
      "   3.11320640e-03   3.11017923e-03   3.10881894e-03   3.10549862e-03\n",
      "   3.10266671e-03   3.10031993e-03   3.09739877e-03   3.09531803e-03\n",
      "   3.09163758e-03   3.08945419e-03   3.08653745e-03   3.08197599e-03\n",
      "   3.07922300e-03   3.07596230e-03   3.07248606e-03   3.06970528e-03\n",
      "   3.06642994e-03   3.06350720e-03   3.06171258e-03   3.06087155e-03\n",
      "   3.05385726e-03   3.04965533e-03   3.04554812e-03   3.04454590e-03\n",
      "   3.04282626e-03   3.03689570e-03   3.03610732e-03   3.03274752e-03\n",
      "   3.02559269e-03   3.02526322e-03   3.01897298e-03   3.01821385e-03\n",
      "   3.01186103e-03   3.00849444e-03   3.00591319e-03   3.00427773e-03\n",
      "   2.99718894e-03   2.99592134e-03   2.99321669e-03   2.99169368e-03\n",
      "   2.98829535e-03   2.98564286e-03   2.98028387e-03   2.97541478e-03\n",
      "   2.97169804e-03   2.96772676e-03   2.96654728e-03   2.96500879e-03\n",
      "   2.95442135e-03   2.95145937e-03   2.94850429e-03   2.94468842e-03\n",
      "   2.93803795e-03   2.93709302e-03   2.93248925e-03   2.92575909e-03\n",
      "   2.92296952e-03   2.91565730e-03   2.91318557e-03   2.90614276e-03\n",
      "   2.90190190e-03   2.89484966e-03   2.88774569e-03   2.88619511e-03\n",
      "   2.88370875e-03   2.87700189e-03   2.87167450e-03   2.86682273e-03\n",
      "   2.86570078e-03   2.85847779e-03   2.85262871e-03   2.84725583e-03\n",
      "   2.84517993e-03   2.83839469e-03   2.82242422e-03   2.81023431e-03\n",
      "   2.79718087e-03   2.79491511e-03   2.77297144e-03   2.74222637e-03\n",
      "   2.67618193e-03   2.38530856e-03   1.73693217e-03   1.73417651e-03\n",
      "   1.73026111e-03   1.71082170e-03   1.67884677e-03   3.06733478e-29]\n"
     ]
    }
   ],
   "source": [
    "# eignevalues: the amount of variation explained by each component\n",
    "print (pca.explained_variance_ratio_)"
   ]
  },
  {
   "cell_type": "code",
   "execution_count": 18,
   "metadata": {
    "collapsed": true
   },
   "outputs": [],
   "source": [
    "tstart = datetime.datetime.now()"
   ]
  },
  {
   "cell_type": "code",
   "execution_count": 19,
   "metadata": {
    "collapsed": true
   },
   "outputs": [],
   "source": [
    "#this method loops through each PC and gets the list of snps having the coefficient higher than the threshold\n",
    "def getPC_snps(threshold):\n",
    "    consolidated_snps = {} #consolidated list of SNPs i.e list having 4 individual lists\n",
    "    for i in range(0,4):#looping through each PC\n",
    "        pc = pca.components_[i]\n",
    "        pc_abs = abs(pc)\n",
    "        num_snps = len(pc_abs)\n",
    "        snp_dict = {} #dictionary key:->snp and value:->coefficient\n",
    "        for j in range(0,num_snps):\n",
    "            snp_dict[snps_pyth[j]] = pc_abs[j]\n",
    "        top_snps,top_values = [],[]\n",
    "        snp_dict_sorted = sorted(snp_dict, key=snp_dict.get, reverse=True)#sorting the dictionary\n",
    "        for snp in snp_dict_sorted[:threshold]:\n",
    "            coeff = snp_dict[snp]\n",
    "            if snp in consolidated_snps:\n",
    "                if(coeff>consolidated_snps[snp]):\n",
    "                    consolidated_snps[snp] = coeff\n",
    "            else:\n",
    "                consolidated_snps[snp] = coeff\n",
    "    return consolidated_snps"
   ]
  },
  {
   "cell_type": "code",
   "execution_count": 20,
   "metadata": {
    "collapsed": true
   },
   "outputs": [],
   "source": [
    "consolidated_snps = getPC_snps(1000) #list of filtered snps for each pc"
   ]
  },
  {
   "cell_type": "code",
   "execution_count": 21,
   "metadata": {
    "collapsed": true
   },
   "outputs": [],
   "source": [
    "sorted_consolidated_snps = sorted(consolidated_snps, key=consolidated_snps.get, reverse=True)#sorting the dictionary\n",
    "top_1000_consolidated = sorted_consolidated_snps[:1000]"
   ]
  },
  {
   "cell_type": "code",
   "execution_count": 22,
   "metadata": {
    "collapsed": false
   },
   "outputs": [
    {
     "name": "stdout",
     "output_type": "stream",
     "text": [
      "0:00:06.148000\n"
     ]
    }
   ],
   "source": [
    "tfinish = datetime.datetime.now()\n",
    "texecute = tfinish - tstart\n",
    "print(texecute)"
   ]
  },
  {
   "cell_type": "code",
   "execution_count": 23,
   "metadata": {
    "collapsed": true
   },
   "outputs": [],
   "source": [
    "fw = open(\"fourPCs_top1000_snps.txt\",\"w\")\n",
    "fw.write(\"SNP\\tScore\\n\")\n",
    "for snp in top_1000_consolidated:\n",
    "    fw.write(snp+\"\\t\")\n",
    "    fw.write(str(consolidated_snps[snp]))\n",
    "    fw.write('\\n')\n",
    "fw.close()"
   ]
  },
  {
   "cell_type": "code",
   "execution_count": 24,
   "metadata": {
    "collapsed": false
   },
   "outputs": [],
   "source": [
    "threePCs_var = pca.explained_variance_ratio_[0:3]"
   ]
  },
  {
   "cell_type": "code",
   "execution_count": 25,
   "metadata": {
    "collapsed": false
   },
   "outputs": [
    {
     "data": {
      "text/plain": [
       "0.14621357327240253"
      ]
     },
     "execution_count": 25,
     "metadata": {},
     "output_type": "execute_result"
    }
   ],
   "source": [
    "sum(threePCs_var)"
   ]
  },
  {
   "cell_type": "code",
   "execution_count": 26,
   "metadata": {
    "collapsed": false
   },
   "outputs": [
    {
     "data": {
      "text/plain": [
       "array([ 0.13563202,  0.00531992,  0.00526163])"
      ]
     },
     "execution_count": 26,
     "metadata": {},
     "output_type": "execute_result"
    }
   ],
   "source": [
    "threePCs_var"
   ]
  },
  {
   "cell_type": "code",
   "execution_count": null,
   "metadata": {
    "collapsed": true
   },
   "outputs": [],
   "source": []
  }
 ],
 "metadata": {
  "kernelspec": {
   "display_name": "Python 3",
   "language": "python",
   "name": "python3"
  },
  "language_info": {
   "codemirror_mode": {
    "name": "ipython",
    "version": 3
   },
   "file_extension": ".py",
   "mimetype": "text/x-python",
   "name": "python",
   "nbconvert_exporter": "python",
   "pygments_lexer": "ipython3",
   "version": "3.6.0"
  }
 },
 "nbformat": 4,
 "nbformat_minor": 2
}
